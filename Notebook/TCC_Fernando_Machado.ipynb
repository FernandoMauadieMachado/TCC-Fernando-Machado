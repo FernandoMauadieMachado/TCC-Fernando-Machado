{
 "cells": [
  {
   "cell_type": "markdown",
   "metadata": {
    "id": "bLf34mrmBH_l"
   },
   "source": [
    "#Preparação dos dados"
   ]
  },
  {
   "cell_type": "markdown",
   "metadata": {
    "id": "tRTliVh7JK9H"
   },
   "source": [
    "Primeiro foi feita uma modificação da base de dados (disponivel em: https://github.com/rissgrouphub/ransomwaredataset2016) para acresentar o cabeçalhos, numerodos de 1 até 30970.  "
   ]
  },
  {
   "cell_type": "code",
   "execution_count": 1,
   "metadata": {
    "id": "N1E-Y-AqG8VU"
   },
   "outputs": [],
   "source": [
    "import io\n",
    "import pandas as pd\n",
    "df = pd.read_csv('RansomwareData2.csv')"
   ]
  },
  {
   "cell_type": "code",
   "execution_count": 3,
   "metadata": {
    "colab": {
     "base_uri": "https://localhost:8080/"
    },
    "id": "HqzTyxVYRZ0b",
    "outputId": "b97a5004-7285-40a2-b05e-f4813681c8f9"
   },
   "outputs": [
    {
     "name": "stdout",
     "output_type": "stream",
     "text": [
      "          1  2  3  4  5  6  7  8  9  10  ...  30961  30962  30963  30964  \\\n",
      "0     10001  1  2  0  0  0  0  0  0   0  ...      0      0      0      0   \n",
      "1     10002  1  3  1  0  1  0  1  0   1  ...      0      0      0      0   \n",
      "2     10003  1  2  0  0  0  0  0  0   0  ...      0      0      0      0   \n",
      "3     10005  1  5  0  0  0  0  1  0   0  ...      0      0      0      0   \n",
      "4     10006  1  7  1  0  1  0  0  1   1  ...      0      0      0      0   \n",
      "...     ... .. .. .. .. .. .. .. ..  ..  ...    ...    ...    ...    ...   \n",
      "1519  21254  0  0  0  0  0  0  1  0   0  ...      0      0      0      0   \n",
      "1520  21255  0  0  0  0  1  0  1  0   1  ...      0      0      0      0   \n",
      "1521  21256  0  0  0  0  1  0  1  0   1  ...      0      0      0      0   \n",
      "1522  21258  0  0  0  0  1  0  0  0   0  ...      0      0      0      0   \n",
      "1523  21259  0  0  0  0  1  0  1  0   0  ...      0      0      0      0   \n",
      "\n",
      "      30965  30966  30967  30968  30969  30970  \n",
      "0         0      0      0      0      0      0  \n",
      "1         0      0      0      0      0      0  \n",
      "2         0      0      0      0      0      0  \n",
      "3         0      0      0      0      0      0  \n",
      "4         0      0      0      0      0      0  \n",
      "...     ...    ...    ...    ...    ...    ...  \n",
      "1519      0      0      0      0      0      0  \n",
      "1520      0      0      0      0      0      0  \n",
      "1521      0      0      0      0      0      0  \n",
      "1522      0      0      0      0      0      0  \n",
      "1523      0      0      0      0      0      0  \n",
      "\n",
      "[1524 rows x 30970 columns]\n"
     ]
    }
   ],
   "source": [
    "print(df)"
   ]
  },
  {
   "cell_type": "markdown",
   "metadata": {
    "id": "YzgVO7SR_c8r"
   },
   "source": [
    "Foi feita uma copia do dataframe para o dataframe2 para que o dataframe original não sofra modificações. No dataframe2 foram retirados as colunas 1 e 3 que tinham o id e o numero que correspodem ao tipo de familia respectivamente."
   ]
  },
  {
   "cell_type": "code",
   "execution_count": 4,
   "metadata": {
    "colab": {
     "base_uri": "https://localhost:8080/"
    },
    "id": "Nm7juMmJHOf9",
    "outputId": "e65d390a-2490-4890-a5c9-605a8fca1f00"
   },
   "outputs": [
    {
     "name": "stdout",
     "output_type": "stream",
     "text": [
      "False\n",
      "      2  4  5  6  7  8  9  10  11  12  ...  30961  30962  30963  30964  30965  \\\n",
      "0     1  0  0  0  0  0  0   0   0   0  ...      0      0      0      0      0   \n",
      "1     1  1  0  1  0  1  0   1   0   0  ...      0      0      0      0      0   \n",
      "2     1  0  0  0  0  0  0   0   0   0  ...      0      0      0      0      0   \n",
      "3     1  0  0  0  0  1  0   0   0   0  ...      0      0      0      0      0   \n",
      "4     1  1  0  1  0  0  1   1   0   1  ...      0      0      0      0      0   \n",
      "...  .. .. .. .. .. .. ..  ..  ..  ..  ...    ...    ...    ...    ...    ...   \n",
      "1519  0  0  0  0  0  1  0   0   0   0  ...      0      0      0      0      0   \n",
      "1520  0  0  0  1  0  1  0   1   0   0  ...      0      0      0      0      0   \n",
      "1521  0  0  0  1  0  1  0   1   1   1  ...      0      0      0      0      0   \n",
      "1522  0  0  0  1  0  0  0   0   0   1  ...      0      0      0      0      0   \n",
      "1523  0  0  0  1  0  1  0   0   0   0  ...      0      0      0      0      0   \n",
      "\n",
      "      30966  30967  30968  30969  30970  \n",
      "0         0      0      0      0      0  \n",
      "1         0      0      0      0      0  \n",
      "2         0      0      0      0      0  \n",
      "3         0      0      0      0      0  \n",
      "4         0      0      0      0      0  \n",
      "...     ...    ...    ...    ...    ...  \n",
      "1519      0      0      0      0      0  \n",
      "1520      0      0      0      0      0  \n",
      "1521      0      0      0      0      0  \n",
      "1522      0      0      0      0      0  \n",
      "1523      0      0      0      0      0  \n",
      "\n",
      "[1524 rows x 30968 columns]\n"
     ]
    }
   ],
   "source": [
    "df2 = df.copy()\n",
    "del df2['1']\n",
    "del df2['3']\n",
    "print(df2.isnull().values.any())\n",
    "print(df2)"
   ]
  },
  {
   "cell_type": "markdown",
   "metadata": {
    "id": "Yz0_7kWsBfvn"
   },
   "source": [
    "#PCA"
   ]
  },
  {
   "cell_type": "code",
   "execution_count": 5,
   "metadata": {
    "id": "pbdnaJ4143bb"
   },
   "outputs": [],
   "source": [
    "maior = -1.0\n",
    "nome = 'nada'"
   ]
  },
  {
   "cell_type": "markdown",
   "metadata": {
    "id": "Rb3Q53g6_1kY"
   },
   "source": [
    "Foi feito a separação dos dados entre conjuntos de teste e treino e o a culuna 2 foi escolhida como alvo, pois nela se contem se um software é goodware ou Ransomware"
   ]
  },
  {
   "cell_type": "code",
   "execution_count": 7,
   "metadata": {
    "id": "Uxm2ZwLKZehy"
   },
   "outputs": [],
   "source": [
    "df3 = df2.copy()\n",
    "y=df3['2']\n",
    "X=df3.drop('2',axis=1)"
   ]
  },
  {
   "cell_type": "code",
   "execution_count": 8,
   "metadata": {
    "id": "hXapEyRdGwmH"
   },
   "outputs": [],
   "source": [
    "from sklearn.model_selection import train_test_split\n",
    "  \n",
    "X_train, X_test, y_train, y_test = train_test_split(X, y, test_size = 0.2, random_state = 0)"
   ]
  },
  {
   "cell_type": "code",
   "execution_count": 9,
   "metadata": {
    "colab": {
     "base_uri": "https://localhost:8080/"
    },
    "id": "ug8oPuZTEqO0",
    "outputId": "5f6aa922-eec1-47e6-f618-ea3d2fcb0334"
   },
   "outputs": [
    {
     "name": "stdout",
     "output_type": "stream",
     "text": [
      "[0.191654   0.06432007 0.05221266 0.03011459 0.02653366 0.02371954\n",
      " 0.01974637 0.01763584 0.01751266 0.01576473 0.01456227 0.01371308\n",
      " 0.01244487 0.01199051 0.01150513 0.0108103  0.01028479 0.01001037\n",
      " 0.0094605  0.00937299 0.00907914 0.00861209 0.00811953 0.00738356\n",
      " 0.00722721 0.00675339 0.00633983 0.0059363  0.00570493 0.00558958\n",
      " 0.00510348 0.00499997 0.00478373 0.00472799 0.00454904 0.00449857\n",
      " 0.00439247 0.00417596 0.00404001 0.00395853 0.00390477 0.00385649\n",
      " 0.00382155 0.00363963 0.00351269 0.00341728 0.00336168 0.00325433\n",
      " 0.00318664 0.0030039  0.00298625 0.00285966 0.0027529  0.00271945\n",
      " 0.00260184 0.00256766 0.00249316 0.0024404  0.00238344 0.0023171\n",
      " 0.00230058 0.00226172 0.00219579 0.00219152 0.00212936 0.00211272\n",
      " 0.00204594 0.00202933 0.00198717 0.0019695  0.00193096 0.00191382\n",
      " 0.00187125 0.00185922 0.00181549 0.00180634 0.00176891 0.00176614\n",
      " 0.00175109 0.00172318 0.00168909 0.00166678 0.00163237 0.00161792\n",
      " 0.00158687 0.00157033 0.00154796 0.00150026 0.00148699 0.00147974\n",
      " 0.00146615 0.00143148 0.00142259 0.00140445 0.00138973 0.00137303\n",
      " 0.00135183 0.0013326  0.00132231 0.00130364 0.00129222 0.0012814\n",
      " 0.00126436 0.00123599 0.00123029 0.00122356 0.00121564 0.00117733\n",
      " 0.00116565 0.00115696 0.00113423 0.00113047 0.00112107 0.00110957\n",
      " 0.00109896 0.00108767 0.00107883 0.00106628 0.0010555  0.00105177\n",
      " 0.00104431 0.00102903 0.00100765 0.00100717 0.00100012 0.00099051\n",
      " 0.00097906 0.00097066 0.00096487 0.00095847 0.00094644 0.00093704\n",
      " 0.00092535 0.00092421 0.00091862 0.00091079 0.00090812 0.0008927\n",
      " 0.00088694 0.00087452 0.00086873 0.00086259 0.00085481 0.00084779\n",
      " 0.00084308 0.0008371  0.00082578 0.00082309 0.00080767 0.00079726\n",
      " 0.00078734 0.00078488 0.00077477 0.00076754 0.00076187 0.00075851\n",
      " 0.00075012 0.00073859 0.00073303 0.00073198 0.00071849 0.00071517\n",
      " 0.00070772 0.00070657 0.00070301 0.00069422 0.00068799 0.00068685\n",
      " 0.00067809 0.00067302 0.00066861 0.00066376 0.000662   0.00065515\n",
      " 0.00065426 0.00064333 0.00064056 0.00063304 0.00063052 0.00062605\n",
      " 0.00062391 0.00061739 0.00061384 0.00061059 0.00060607 0.00059838\n",
      " 0.00059334 0.00058991 0.00058144 0.00057878 0.00057609 0.00057292\n",
      " 0.00057043 0.00056565 0.00056263 0.00055536]\n"
     ]
    }
   ],
   "source": [
    "from sklearn.decomposition import PCA\n",
    "pca = PCA(0.90)\n",
    "  \n",
    "X_train = pca.fit_transform(X_train)\n",
    "X_test = pca.transform(X_test)\n",
    "  \n",
    "explained_variance = pca.explained_variance_ratio_\n",
    "\n",
    "print(explained_variance)"
   ]
  },
  {
   "cell_type": "markdown",
   "metadata": {
    "id": "5wVfr9Kbeh2D"
   },
   "source": [
    "##Regressão logistica com PCA"
   ]
  },
  {
   "cell_type": "code",
   "execution_count": 12,
   "metadata": {
    "colab": {
     "base_uri": "https://localhost:8080/"
    },
    "id": "iQ70VG5_aGpA",
    "outputId": "5a5e7fd8-b906-496c-bcc9-82743c794a12"
   },
   "outputs": [
    {
     "name": "stdout",
     "output_type": "stream",
     "text": [
      "0.9836065573770492\n"
     ]
    }
   ],
   "source": [
    "from sklearn.linear_model import LogisticRegression\n",
    "logisticRegr = LogisticRegression()\n",
    "logisticRegr.fit(X_train, y_train)\n",
    "logisticRegr.score(X_test, y_test)\n",
    "\n",
    "print(logisticRegr.score(X_test, y_test))"
   ]
  },
  {
   "cell_type": "code",
   "execution_count": 13,
   "metadata": {
    "id": "82MNlcTN5M-4"
   },
   "outputs": [],
   "source": [
    "if(logisticRegr.score(X_test, y_test)==maior):\n",
    "  nome = nome + ' e regressão logistica'\n",
    "elif(logisticRegr.score(X_test, y_test)>maior):\n",
    "  maior = logisticRegr.score(X_test, y_test)\n",
    "  nome = 'Regressao logistica'"
   ]
  },
  {
   "cell_type": "code",
   "execution_count": 14,
   "metadata": {
    "colab": {
     "base_uri": "https://localhost:8080/",
     "height": 449
    },
    "id": "Vi9Q3AfIcF_b",
    "outputId": "b906ac0b-a37f-4cd6-a7a3-990c352e0e5b"
   },
   "outputs": [
    {
     "data": {
      "image/png": "[encoded data removed]",
      "text/plain": [
       "<Figure size 640x480 with 2 Axes>"
      ]
     },
     "metadata": {},
     "output_type": "display_data"
    }
   ],
   "source": [
    "import matplotlib.pyplot as plt\n",
    "import numpy\n",
    "from sklearn import metrics\n",
    "predicaoLogistica = logisticRegr.predict(X_test)\n",
    "\n",
    "confusion_matrix = metrics.confusion_matrix(y_test,predicaoLogistica)\n",
    "cm_display = metrics.ConfusionMatrixDisplay(confusion_matrix = confusion_matrix, display_labels = [False, True])\n",
    "\n",
    "cm_display.plot()\n",
    "plt.show()"
   ]
  },
  {
   "cell_type": "markdown",
   "metadata": {
    "id": "xZ1LN7eaAfaq"
   },
   "source": [
    "##KNN com PCA\n"
   ]
  },
  {
   "cell_type": "code",
   "execution_count": 15,
   "metadata": {
    "colab": {
     "base_uri": "https://localhost:8080/"
    },
    "id": "DkF-CcNlAjO4",
    "outputId": "dbdcf599-038e-4e36-c091-68ef28d319f8"
   },
   "outputs": [
    {
     "data": {
      "text/plain": [
       "0.9180327868852459"
      ]
     },
     "execution_count": 15,
     "metadata": {},
     "output_type": "execute_result"
    }
   ],
   "source": [
    "from sklearn.neighbors import KNeighborsClassifier\n",
    "\n",
    "knn = KNeighborsClassifier(n_neighbors=14)\n",
    "knn.fit(X_train, y_train)\n",
    "knn.score(X_test, y_test)"
   ]
  },
  {
   "cell_type": "code",
   "execution_count": 16,
   "metadata": {
    "id": "gf2UbMZT6XrH"
   },
   "outputs": [],
   "source": [
    "if(knn.score(X_test, y_test)==maior):\n",
    "  nome = nome + ' e KNN'\n",
    "elif(knn.score(X_test, y_test)>maior):\n",
    "  maior = knn.score(X_test, y_test)\n",
    "  nome = 'KNN'"
   ]
  },
  {
   "cell_type": "code",
   "execution_count": 17,
   "metadata": {
    "colab": {
     "base_uri": "https://localhost:8080/",
     "height": 279
    },
    "id": "bLrrxErPchXs",
    "outputId": "32996edc-1481-40d4-a9d6-43d359fb6922"
   },
   "outputs": [
    {
     "data": {
      "image/png": "[encoded data removed]",
      "text/plain": [
       "<Figure size 640x480 with 2 Axes>"
      ]
     },
     "metadata": {},
     "output_type": "display_data"
    }
   ],
   "source": [
    "import matplotlib.pyplot as plt\n",
    "import numpy\n",
    "from sklearn import metrics\n",
    "predicaoknn = knn.predict(X_test)\n",
    "\n",
    "confusion_matrix = metrics.confusion_matrix(y_test,predicaoknn)\n",
    "cm_display = metrics.ConfusionMatrixDisplay(confusion_matrix = confusion_matrix, display_labels = [False, True])\n",
    "\n",
    "cm_display.plot()\n",
    "plt.show()"
   ]
  },
  {
   "cell_type": "markdown",
   "metadata": {
    "id": "7pLpL6ckBvBK"
   },
   "source": [
    "##Gaussian Naive Bayes com PCA"
   ]
  },
  {
   "cell_type": "code",
   "execution_count": 18,
   "metadata": {
    "colab": {
     "base_uri": "https://localhost:8080/"
    },
    "id": "bHdPTkiyc_hr",
    "outputId": "d994ee99-77f8-4b45-c774-b419a82abd5c"
   },
   "outputs": [
    {
     "data": {
      "text/plain": [
       "0.5442622950819672"
      ]
     },
     "execution_count": 18,
     "metadata": {},
     "output_type": "execute_result"
    }
   ],
   "source": [
    "from sklearn.naive_bayes import GaussianNB\n",
    "\n",
    "gnb = GaussianNB()\n",
    "gnb.fit(X_train, y_train)\n",
    "gnb.score(X_test, y_test)"
   ]
  },
  {
   "cell_type": "code",
   "execution_count": 19,
   "metadata": {
    "id": "fF89R1KA6gx0"
   },
   "outputs": [],
   "source": [
    "if(gnb.score(X_test, y_test)==maior):\n",
    "  nome = nome + ' e Gaussian Naive Bayes'\n",
    "elif(gnb.score(X_test, y_test)>maior):\n",
    "  maior = gnb.score(X_test, y_test)\n",
    "  nome = 'Gaussian Naive Bayes'"
   ]
  },
  {
   "cell_type": "code",
   "execution_count": 20,
   "metadata": {
    "colab": {
     "base_uri": "https://localhost:8080/",
     "height": 279
    },
    "id": "XfBnvK4mc8uX",
    "outputId": "7b9713f5-1534-4edf-d9ee-51f260733a9d"
   },
   "outputs": [
    {
     "data": {
      "image/png": "[encoded data removed]",
      "text/plain": [
       "<Figure size 640x480 with 2 Axes>"
      ]
     },
     "metadata": {},
     "output_type": "display_data"
    }
   ],
   "source": [
    "import matplotlib.pyplot as plt\n",
    "import numpy\n",
    "from sklearn import metrics\n",
    "predicaoGNB = gnb.predict(X_test)\n",
    "\n",
    "confusion_matrix = metrics.confusion_matrix(y_test,predicaoGNB)\n",
    "cm_display = metrics.ConfusionMatrixDisplay(confusion_matrix = confusion_matrix, display_labels = [False, True])\n",
    "\n",
    "cm_display.plot()\n",
    "plt.show()"
   ]
  },
  {
   "cell_type": "markdown",
   "metadata": {
    "id": "A4MnOdXbkXCW"
   },
   "source": [
    "##SVM com PCA"
   ]
  },
  {
   "cell_type": "code",
   "execution_count": 21,
   "metadata": {
    "colab": {
     "base_uri": "https://localhost:8080/"
    },
    "id": "jJ_QcuULkszV",
    "outputId": "c140d721-54c0-4551-aeb5-cb3a89f0a96b"
   },
   "outputs": [
    {
     "data": {
      "text/plain": [
       "0.940983606557377"
      ]
     },
     "execution_count": 21,
     "metadata": {},
     "output_type": "execute_result"
    }
   ],
   "source": [
    "from sklearn import svm\n",
    "\n",
    "clf = svm.SVC()\n",
    "clf.fit(X_train, y_train)\n",
    "clf.score(X_test, y_test)"
   ]
  },
  {
   "cell_type": "code",
   "execution_count": 22,
   "metadata": {
    "id": "__cCGtx16_B7"
   },
   "outputs": [],
   "source": [
    "if(clf.score(X_test, y_test)==maior):\n",
    "  nome = nome + ' e SVM'\n",
    "elif(clf.score(X_test, y_test)>maior):\n",
    "  maior = clf.score(X_test, y_test)\n",
    "  nome = 'SVM'"
   ]
  },
  {
   "cell_type": "code",
   "execution_count": 23,
   "metadata": {
    "colab": {
     "base_uri": "https://localhost:8080/",
     "height": 279
    },
    "id": "UIfEWUnslFI8",
    "outputId": "2e04bc78-255d-4c28-b5de-d250788601f5"
   },
   "outputs": [
    {
     "data": {
      "image/png": "[encoded data removed]",
      "text/plain": [
       "<Figure size 640x480 with 2 Axes>"
      ]
     },
     "metadata": {},
     "output_type": "display_data"
    }
   ],
   "source": [
    "import matplotlib.pyplot as plt\n",
    "import numpy\n",
    "from sklearn import metrics\n",
    "predicaoSVM = clf.predict(X_test)\n",
    "\n",
    "confusion_matrix = metrics.confusion_matrix(y_test,predicaoSVM)\n",
    "cm_display = metrics.ConfusionMatrixDisplay(confusion_matrix = confusion_matrix, display_labels = [False, True])\n",
    "\n",
    "cm_display.plot()\n",
    "plt.show()"
   ]
  },
  {
   "cell_type": "markdown",
   "metadata": {
    "id": "lBlorh0elYaq"
   },
   "source": [
    "##SGD com PCA"
   ]
  },
  {
   "cell_type": "code",
   "execution_count": 27,
   "metadata": {
    "colab": {
     "base_uri": "https://localhost:8080/"
    },
    "id": "B9cqNe70lXjb",
    "outputId": "570f7b96-d62e-48e4-e5c6-13e432361e72"
   },
   "outputs": [
    {
     "data": {
      "text/plain": [
       "0.980327868852459"
      ]
     },
     "execution_count": 27,
     "metadata": {},
     "output_type": "execute_result"
    }
   ],
   "source": [
    "from sklearn.linear_model import SGDClassifier\n",
    "\n",
    "sgd = SGDClassifier(random_state=10)\n",
    "sgd.fit(X_train,y_train)\n",
    "sgd.score(X_test, y_test)"
   ]
  },
  {
   "cell_type": "code",
   "execution_count": 28,
   "metadata": {
    "id": "oKayjLnw7b37"
   },
   "outputs": [],
   "source": [
    "if(sgd.score(X_test, y_test)==maior):\n",
    "  nome = nome + ' e SGD'\n",
    "elif(sgd.score(X_test, y_test)>maior):\n",
    "  maior = sgd.score(X_test, y_test)\n",
    "  nome = 'SGD'"
   ]
  },
  {
   "cell_type": "code",
   "execution_count": 29,
   "metadata": {
    "colab": {
     "base_uri": "https://localhost:8080/",
     "height": 279
    },
    "id": "7xm9Hlp_l8wz",
    "outputId": "3c418eca-52e7-46bc-c0e7-4f191534d89d"
   },
   "outputs": [
    {
     "data": {
      "image/png": "[encoded data removed]",
      "text/plain": [
       "<Figure size 640x480 with 2 Axes>"
      ]
     },
     "metadata": {},
     "output_type": "display_data"
    }
   ],
   "source": [
    "import matplotlib.pyplot as plt\n",
    "import numpy\n",
    "from sklearn import metrics\n",
    "predicaoSGD = sgd.predict(X_test)\n",
    "\n",
    "confusion_matrix = metrics.confusion_matrix(y_test,predicaoSGD)\n",
    "cm_display = metrics.ConfusionMatrixDisplay(confusion_matrix = confusion_matrix, display_labels = [False, True])\n",
    "\n",
    "cm_display.plot()\n",
    "plt.show()"
   ]
  },
  {
   "cell_type": "markdown",
   "metadata": {
    "id": "vrWfOgzTmPsN"
   },
   "source": [
    "##Redes Neurais com PCA"
   ]
  },
  {
   "cell_type": "code",
   "execution_count": 30,
   "metadata": {
    "colab": {
     "base_uri": "https://localhost:8080/"
    },
    "id": "3lmOTiKZvKze",
    "outputId": "7311e70a-8536-4e1d-ec0c-cbbc2067950e"
   },
   "outputs": [
    {
     "data": {
      "text/plain": [
       "0.980327868852459"
      ]
     },
     "execution_count": 30,
     "metadata": {},
     "output_type": "execute_result"
    }
   ],
   "source": [
    "from sklearn.neural_network import MLPClassifier\n",
    "\n",
    "RN = MLPClassifier(random_state=1,max_iter=10000)\n",
    "RN.fit(X_train, y_train)\n",
    "RN.score(X_test, y_test)"
   ]
  },
  {
   "cell_type": "code",
   "execution_count": 31,
   "metadata": {
    "id": "UR1Xkbbv705c"
   },
   "outputs": [],
   "source": [
    "if(RN.score(X_test, y_test)==maior):\n",
    "  nome = nome + ' e Redes Neurais'\n",
    "elif(RN.score(X_test, y_test)>maior):\n",
    "  maior = RN.score(X_test, y_test)\n",
    "  nome = 'Redes Neurais'"
   ]
  },
  {
   "cell_type": "code",
   "execution_count": 32,
   "metadata": {
    "colab": {
     "base_uri": "https://localhost:8080/",
     "height": 279
    },
    "id": "J7Yf8CdBvK-t",
    "outputId": "7370fdb0-876e-4fdc-a1a3-f9a2dab4fb6b"
   },
   "outputs": [
    {
     "data": {
      "image/png": "[encoded data removed]",
      "text/plain": [
       "<Figure size 640x480 with 2 Axes>"
      ]
     },
     "metadata": {},
     "output_type": "display_data"
    }
   ],
   "source": [
    "import matplotlib.pyplot as plt\n",
    "import numpy\n",
    "from sklearn import metrics\n",
    "predicaoRN = RN.predict(X_test)\n",
    "\n",
    "confusion_matrix = metrics.confusion_matrix(y_test,predicaoRN)\n",
    "cm_display = metrics.ConfusionMatrixDisplay(confusion_matrix = confusion_matrix, display_labels = [False, True])\n",
    "\n",
    "cm_display.plot()\n",
    "plt.show()"
   ]
  },
  {
   "cell_type": "code",
   "execution_count": 33,
   "metadata": {
    "colab": {
     "base_uri": "https://localhost:8080/"
    },
    "id": "4aeMNyPCx7SG",
    "outputId": "13dba1f0-9fd0-4e1c-ea20-07e9e8051d85"
   },
   "outputs": [
    {
     "name": "stdout",
     "output_type": "stream",
     "text": [
      "0.9836065573770492\n",
      "Regressao logistica\n"
     ]
    }
   ],
   "source": [
    "print(maior)\n",
    "print(nome)"
   ]
  },
  {
   "cell_type": "markdown",
   "metadata": {
    "id": "rSQHRsgJFcEU"
   },
   "source": [
    "##Grid\n"
   ]
  },
  {
   "cell_type": "code",
   "execution_count": 35,
   "metadata": {
    "id": "IkqVBIHvGBCf"
   },
   "outputs": [],
   "source": [
    "import numpy as np\n",
    "from sklearn.model_selection import GridSearchCV"
   ]
  },
  {
   "cell_type": "code",
   "execution_count": 36,
   "metadata": {
    "id": "Q3Xv0v0zFjs5"
   },
   "outputs": [],
   "source": [
    "modelo = LogisticRegression()"
   ]
  },
  {
   "cell_type": "code",
   "execution_count": 37,
   "metadata": {
    "colab": {
     "base_uri": "https://localhost:8080/"
    },
    "id": "AW5W6knFyWTr",
    "outputId": "6e0438fa-e315-4061-851b-a005db47b3f9"
   },
   "outputs": [
    {
     "name": "stdout",
     "output_type": "stream",
     "text": [
      "{'C': 1.0, 'class_weight': None, 'dual': False, 'fit_intercept': True, 'intercept_scaling': 1, 'l1_ratio': None, 'max_iter': 100, 'multi_class': 'auto', 'n_jobs': None, 'penalty': 'l2', 'random_state': None, 'solver': 'lbfgs', 'tol': 0.0001, 'verbose': 0, 'warm_start': False}\n"
     ]
    }
   ],
   "source": [
    "print(modelo.get_params())"
   ]
  },
  {
   "cell_type": "code",
   "execution_count": 50,
   "metadata": {
    "id": "l-iA0M-qFgmk"
   },
   "outputs": [],
   "source": [
    "valores_grid = {'penalty':(None,'l2','l1','elasticnet'),'dual':(False,True),'fit_intercept':(True,False), 'class_weight':(None,'balanced'), 'solver':('lbfgs', 'liblinear', 'newton-cg', 'newton-cholesky', 'sag', 'saga'), 'multi_class':('auto', 'ovr', 'multinomial'),'max_iter': [10000], 'warm_start':(False,True)}\n",
    "seed = 7"
   ]
  },
  {
   "cell_type": "code",
   "execution_count": 51,
   "metadata": {
    "id": "LmWObjMxFp9g"
   },
   "outputs": [
    {
     "name": "stderr",
     "output_type": "stream",
     "text": [
      "c:\\users\\telma machado\\appdata\\local\\programs\\python\\python37\\lib\\site-packages\\sklearn\\model_selection\\_validation.py:372: FitFailedWarning: \n",
      "4920 fits failed out of a total of 5760.\n",
      "The score on these train-test partitions for these parameters will be set to nan.\n",
      "If these failures are not expected, you can try to debug them by setting error_score='raise'.\n",
      "\n",
      "Below are more details about the failures:\n",
      "--------------------------------------------------------------------------------\n",
      "1200 fits failed with the following error:\n",
      "Traceback (most recent call last):\n",
      "  File \"c:\\users\\telma machado\\appdata\\local\\programs\\python\\python37\\lib\\site-packages\\sklearn\\model_selection\\_validation.py\", line 680, in _fit_and_score\n",
      "    estimator.fit(X_train, y_train, **fit_params)\n",
      "  File \"c:\\users\\telma machado\\appdata\\local\\programs\\python\\python37\\lib\\site-packages\\sklearn\\linear_model\\_logistic.py\", line 1461, in fit\n",
      "    solver = _check_solver(self.solver, self.penalty, self.dual)\n",
      "  File \"c:\\users\\telma machado\\appdata\\local\\programs\\python\\python37\\lib\\site-packages\\sklearn\\linear_model\\_logistic.py\", line 443, in _check_solver\n",
      "    % (all_penalties, penalty)\n",
      "ValueError: Logistic Regression supports only penalties in ['l1', 'l2', 'elasticnet', 'none'], got None.\n",
      "\n",
      "--------------------------------------------------------------------------------\n",
      "960 fits failed with the following error:\n",
      "Traceback (most recent call last):\n",
      "  File \"c:\\users\\telma machado\\appdata\\local\\programs\\python\\python37\\lib\\site-packages\\sklearn\\model_selection\\_validation.py\", line 680, in _fit_and_score\n",
      "    estimator.fit(X_train, y_train, **fit_params)\n",
      "  File \"c:\\users\\telma machado\\appdata\\local\\programs\\python\\python37\\lib\\site-packages\\sklearn\\linear_model\\_logistic.py\", line 1461, in fit\n",
      "    solver = _check_solver(self.solver, self.penalty, self.dual)\n",
      "  File \"c:\\users\\telma machado\\appdata\\local\\programs\\python\\python37\\lib\\site-packages\\sklearn\\linear_model\\_logistic.py\", line 436, in _check_solver\n",
      "    % (all_solvers, solver)\n",
      "ValueError: Logistic Regression supports only solvers in ['liblinear', 'newton-cg', 'lbfgs', 'sag', 'saga'], got newton-cholesky.\n",
      "\n",
      "--------------------------------------------------------------------------------\n",
      "240 fits failed with the following error:\n",
      "Traceback (most recent call last):\n",
      "  File \"c:\\users\\telma machado\\appdata\\local\\programs\\python\\python37\\lib\\site-packages\\sklearn\\model_selection\\_validation.py\", line 680, in _fit_and_score\n",
      "    estimator.fit(X_train, y_train, **fit_params)\n",
      "  File \"c:\\users\\telma machado\\appdata\\local\\programs\\python\\python37\\lib\\site-packages\\sklearn\\linear_model\\_logistic.py\", line 1461, in fit\n",
      "    solver = _check_solver(self.solver, self.penalty, self.dual)\n",
      "  File \"c:\\users\\telma machado\\appdata\\local\\programs\\python\\python37\\lib\\site-packages\\sklearn\\linear_model\\_logistic.py\", line 449, in _check_solver\n",
      "    % (solver, penalty)\n",
      "ValueError: Solver lbfgs supports only 'l2' or 'none' penalties, got l1 penalty.\n",
      "\n",
      "--------------------------------------------------------------------------------\n",
      "240 fits failed with the following error:\n",
      "Traceback (most recent call last):\n",
      "  File \"c:\\users\\telma machado\\appdata\\local\\programs\\python\\python37\\lib\\site-packages\\sklearn\\model_selection\\_validation.py\", line 680, in _fit_and_score\n",
      "    estimator.fit(X_train, y_train, **fit_params)\n",
      "  File \"c:\\users\\telma machado\\appdata\\local\\programs\\python\\python37\\lib\\site-packages\\sklearn\\linear_model\\_logistic.py\", line 1461, in fit\n",
      "    solver = _check_solver(self.solver, self.penalty, self.dual)\n",
      "  File \"c:\\users\\telma machado\\appdata\\local\\programs\\python\\python37\\lib\\site-packages\\sklearn\\linear_model\\_logistic.py\", line 449, in _check_solver\n",
      "    % (solver, penalty)\n",
      "ValueError: Solver newton-cg supports only 'l2' or 'none' penalties, got l1 penalty.\n",
      "\n",
      "--------------------------------------------------------------------------------\n",
      "240 fits failed with the following error:\n",
      "Traceback (most recent call last):\n",
      "  File \"c:\\users\\telma machado\\appdata\\local\\programs\\python\\python37\\lib\\site-packages\\sklearn\\model_selection\\_validation.py\", line 680, in _fit_and_score\n",
      "    estimator.fit(X_train, y_train, **fit_params)\n",
      "  File \"c:\\users\\telma machado\\appdata\\local\\programs\\python\\python37\\lib\\site-packages\\sklearn\\linear_model\\_logistic.py\", line 1461, in fit\n",
      "    solver = _check_solver(self.solver, self.penalty, self.dual)\n",
      "  File \"c:\\users\\telma machado\\appdata\\local\\programs\\python\\python37\\lib\\site-packages\\sklearn\\linear_model\\_logistic.py\", line 449, in _check_solver\n",
      "    % (solver, penalty)\n",
      "ValueError: Solver sag supports only 'l2' or 'none' penalties, got l1 penalty.\n",
      "\n",
      "--------------------------------------------------------------------------------\n",
      "240 fits failed with the following error:\n",
      "Traceback (most recent call last):\n",
      "  File \"c:\\users\\telma machado\\appdata\\local\\programs\\python\\python37\\lib\\site-packages\\sklearn\\model_selection\\_validation.py\", line 680, in _fit_and_score\n",
      "    estimator.fit(X_train, y_train, **fit_params)\n",
      "  File \"c:\\users\\telma machado\\appdata\\local\\programs\\python\\python37\\lib\\site-packages\\sklearn\\linear_model\\_logistic.py\", line 1461, in fit\n",
      "    solver = _check_solver(self.solver, self.penalty, self.dual)\n",
      "  File \"c:\\users\\telma machado\\appdata\\local\\programs\\python\\python37\\lib\\site-packages\\sklearn\\linear_model\\_logistic.py\", line 449, in _check_solver\n",
      "    % (solver, penalty)\n",
      "ValueError: Solver lbfgs supports only 'l2' or 'none' penalties, got elasticnet penalty.\n",
      "\n",
      "--------------------------------------------------------------------------------\n",
      "240 fits failed with the following error:\n",
      "Traceback (most recent call last):\n",
      "  File \"c:\\users\\telma machado\\appdata\\local\\programs\\python\\python37\\lib\\site-packages\\sklearn\\model_selection\\_validation.py\", line 680, in _fit_and_score\n",
      "    estimator.fit(X_train, y_train, **fit_params)\n",
      "  File \"c:\\users\\telma machado\\appdata\\local\\programs\\python\\python37\\lib\\site-packages\\sklearn\\linear_model\\_logistic.py\", line 1461, in fit\n",
      "    solver = _check_solver(self.solver, self.penalty, self.dual)\n",
      "  File \"c:\\users\\telma machado\\appdata\\local\\programs\\python\\python37\\lib\\site-packages\\sklearn\\linear_model\\_logistic.py\", line 459, in _check_solver\n",
      "    solver\n",
      "ValueError: Only 'saga' solver supports elasticnet penalty, got solver=liblinear.\n",
      "\n",
      "--------------------------------------------------------------------------------\n",
      "240 fits failed with the following error:\n",
      "Traceback (most recent call last):\n",
      "  File \"c:\\users\\telma machado\\appdata\\local\\programs\\python\\python37\\lib\\site-packages\\sklearn\\model_selection\\_validation.py\", line 680, in _fit_and_score\n",
      "    estimator.fit(X_train, y_train, **fit_params)\n",
      "  File \"c:\\users\\telma machado\\appdata\\local\\programs\\python\\python37\\lib\\site-packages\\sklearn\\linear_model\\_logistic.py\", line 1461, in fit\n",
      "    solver = _check_solver(self.solver, self.penalty, self.dual)\n",
      "  File \"c:\\users\\telma machado\\appdata\\local\\programs\\python\\python37\\lib\\site-packages\\sklearn\\linear_model\\_logistic.py\", line 449, in _check_solver\n",
      "    % (solver, penalty)\n",
      "ValueError: Solver newton-cg supports only 'l2' or 'none' penalties, got elasticnet penalty.\n",
      "\n",
      "--------------------------------------------------------------------------------\n",
      "240 fits failed with the following error:\n",
      "Traceback (most recent call last):\n",
      "  File \"c:\\users\\telma machado\\appdata\\local\\programs\\python\\python37\\lib\\site-packages\\sklearn\\model_selection\\_validation.py\", line 680, in _fit_and_score\n",
      "    estimator.fit(X_train, y_train, **fit_params)\n",
      "  File \"c:\\users\\telma machado\\appdata\\local\\programs\\python\\python37\\lib\\site-packages\\sklearn\\linear_model\\_logistic.py\", line 1461, in fit\n",
      "    solver = _check_solver(self.solver, self.penalty, self.dual)\n",
      "  File \"c:\\users\\telma machado\\appdata\\local\\programs\\python\\python37\\lib\\site-packages\\sklearn\\linear_model\\_logistic.py\", line 449, in _check_solver\n",
      "    % (solver, penalty)\n",
      "ValueError: Solver sag supports only 'l2' or 'none' penalties, got elasticnet penalty.\n",
      "\n",
      "--------------------------------------------------------------------------------\n",
      "120 fits failed with the following error:\n",
      "Traceback (most recent call last):\n",
      "  File \"c:\\users\\telma machado\\appdata\\local\\programs\\python\\python37\\lib\\site-packages\\sklearn\\model_selection\\_validation.py\", line 680, in _fit_and_score\n",
      "    estimator.fit(X_train, y_train, **fit_params)\n",
      "  File \"c:\\users\\telma machado\\appdata\\local\\programs\\python\\python37\\lib\\site-packages\\sklearn\\linear_model\\_logistic.py\", line 1473, in fit\n",
      "    % self.l1_ratio\n",
      "ValueError: l1_ratio must be between 0 and 1; got (l1_ratio=None)\n",
      "\n",
      "--------------------------------------------------------------------------------\n",
      "160 fits failed with the following error:\n",
      "Traceback (most recent call last):\n",
      "  File \"c:\\users\\telma machado\\appdata\\local\\programs\\python\\python37\\lib\\site-packages\\sklearn\\model_selection\\_validation.py\", line 680, in _fit_and_score\n",
      "    estimator.fit(X_train, y_train, **fit_params)\n",
      "  File \"c:\\users\\telma machado\\appdata\\local\\programs\\python\\python37\\lib\\site-packages\\sklearn\\linear_model\\_logistic.py\", line 1519, in fit\n",
      "    multi_class = _check_multi_class(self.multi_class, solver, len(self.classes_))\n",
      "  File \"c:\\users\\telma machado\\appdata\\local\\programs\\python\\python37\\lib\\site-packages\\sklearn\\linear_model\\_logistic.py\", line 483, in _check_multi_class\n",
      "    raise ValueError(\"Solver %s does not support a multinomial backend.\" % solver)\n",
      "ValueError: Solver liblinear does not support a multinomial backend.\n",
      "\n",
      "--------------------------------------------------------------------------------\n",
      "120 fits failed with the following error:\n",
      "Traceback (most recent call last):\n",
      "  File \"c:\\users\\telma machado\\appdata\\local\\programs\\python\\python37\\lib\\site-packages\\sklearn\\model_selection\\_validation.py\", line 680, in _fit_and_score\n",
      "    estimator.fit(X_train, y_train, **fit_params)\n",
      "  File \"c:\\users\\telma machado\\appdata\\local\\programs\\python\\python37\\lib\\site-packages\\sklearn\\linear_model\\_logistic.py\", line 1461, in fit\n",
      "    solver = _check_solver(self.solver, self.penalty, self.dual)\n",
      "  File \"c:\\users\\telma machado\\appdata\\local\\programs\\python\\python37\\lib\\site-packages\\sklearn\\linear_model\\_logistic.py\", line 453, in _check_solver\n",
      "    \"Solver %s supports only dual=False, got dual=%s\" % (solver, dual)\n",
      "ValueError: Solver lbfgs supports only dual=False, got dual=True\n",
      "\n",
      "--------------------------------------------------------------------------------\n",
      "120 fits failed with the following error:\n",
      "Traceback (most recent call last):\n",
      "  File \"c:\\users\\telma machado\\appdata\\local\\programs\\python\\python37\\lib\\site-packages\\sklearn\\model_selection\\_validation.py\", line 680, in _fit_and_score\n",
      "    estimator.fit(X_train, y_train, **fit_params)\n",
      "  File \"c:\\users\\telma machado\\appdata\\local\\programs\\python\\python37\\lib\\site-packages\\sklearn\\linear_model\\_logistic.py\", line 1461, in fit\n",
      "    solver = _check_solver(self.solver, self.penalty, self.dual)\n",
      "  File \"c:\\users\\telma machado\\appdata\\local\\programs\\python\\python37\\lib\\site-packages\\sklearn\\linear_model\\_logistic.py\", line 453, in _check_solver\n",
      "    \"Solver %s supports only dual=False, got dual=%s\" % (solver, dual)\n",
      "ValueError: Solver newton-cg supports only dual=False, got dual=True\n",
      "\n",
      "--------------------------------------------------------------------------------\n",
      "120 fits failed with the following error:\n",
      "Traceback (most recent call last):\n",
      "  File \"c:\\users\\telma machado\\appdata\\local\\programs\\python\\python37\\lib\\site-packages\\sklearn\\model_selection\\_validation.py\", line 680, in _fit_and_score\n",
      "    estimator.fit(X_train, y_train, **fit_params)\n",
      "  File \"c:\\users\\telma machado\\appdata\\local\\programs\\python\\python37\\lib\\site-packages\\sklearn\\linear_model\\_logistic.py\", line 1461, in fit\n",
      "    solver = _check_solver(self.solver, self.penalty, self.dual)\n",
      "  File \"c:\\users\\telma machado\\appdata\\local\\programs\\python\\python37\\lib\\site-packages\\sklearn\\linear_model\\_logistic.py\", line 453, in _check_solver\n",
      "    \"Solver %s supports only dual=False, got dual=%s\" % (solver, dual)\n",
      "ValueError: Solver sag supports only dual=False, got dual=True\n",
      "\n",
      "--------------------------------------------------------------------------------\n",
      "360 fits failed with the following error:\n",
      "Traceback (most recent call last):\n",
      "  File \"c:\\users\\telma machado\\appdata\\local\\programs\\python\\python37\\lib\\site-packages\\sklearn\\model_selection\\_validation.py\", line 680, in _fit_and_score\n",
      "    estimator.fit(X_train, y_train, **fit_params)\n",
      "  File \"c:\\users\\telma machado\\appdata\\local\\programs\\python\\python37\\lib\\site-packages\\sklearn\\linear_model\\_logistic.py\", line 1461, in fit\n",
      "    solver = _check_solver(self.solver, self.penalty, self.dual)\n",
      "  File \"c:\\users\\telma machado\\appdata\\local\\programs\\python\\python37\\lib\\site-packages\\sklearn\\linear_model\\_logistic.py\", line 453, in _check_solver\n",
      "    \"Solver %s supports only dual=False, got dual=%s\" % (solver, dual)\n",
      "ValueError: Solver saga supports only dual=False, got dual=True\n",
      "\n",
      "--------------------------------------------------------------------------------\n",
      "80 fits failed with the following error:\n",
      "Traceback (most recent call last):\n",
      "  File \"c:\\users\\telma machado\\appdata\\local\\programs\\python\\python37\\lib\\site-packages\\sklearn\\model_selection\\_validation.py\", line 680, in _fit_and_score\n",
      "    estimator.fit(X_train, y_train, **fit_params)\n",
      "  File \"c:\\users\\telma machado\\appdata\\local\\programs\\python\\python37\\lib\\site-packages\\sklearn\\linear_model\\_logistic.py\", line 1541, in fit\n",
      "    sample_weight=sample_weight,\n",
      "  File \"c:\\users\\telma machado\\appdata\\local\\programs\\python\\python37\\lib\\site-packages\\sklearn\\svm\\_base.py\", line 1185, in _fit_liblinear\n",
      "    solver_type = _get_liblinear_solver_type(multi_class, penalty, loss, dual)\n",
      "  File \"c:\\users\\telma machado\\appdata\\local\\programs\\python\\python37\\lib\\site-packages\\sklearn\\svm\\_base.py\", line 1026, in _get_liblinear_solver_type\n",
      "    % (error_string, penalty, loss, dual)\n",
      "ValueError: Unsupported set of arguments: The combination of penalty='l1' and loss='logistic_regression' are not supported when dual=True, Parameters: penalty='l1', loss='logistic_regression', dual=True\n",
      "\n",
      "  warnings.warn(some_fits_failed_message, FitFailedWarning)\n"
     ]
    },
    {
     "name": "stderr",
     "output_type": "stream",
     "text": [
      "c:\\users\\telma machado\\appdata\\local\\programs\\python\\python37\\lib\\site-packages\\sklearn\\model_selection\\_search.py:972: UserWarning: One or more of the test scores are non-finite: [nan nan nan ... nan nan nan]\n",
      "  category=UserWarning,\n"
     ]
    },
    {
     "name": "stdout",
     "output_type": "stream",
     "text": [
      "Melhores Parâmetros do Modelo:\n",
      " LogisticRegression(max_iter=10000, solver='sag', warm_start=True)\n"
     ]
    }
   ],
   "source": [
    "grid = GridSearchCV(estimator = modelo, param_grid = valores_grid)\n",
    "grid.fit(X, y)\n",
    "print(\"Melhores Parâmetros do Modelo:\\n\", grid.best_estimator_)"
   ]
  },
  {
   "cell_type": "code",
   "execution_count": 52,
   "metadata": {
    "id": "rliReqPYAH0O"
   },
   "outputs": [
    {
     "name": "stdout",
     "output_type": "stream",
     "text": [
      "0.9836065573770492\n"
     ]
    }
   ],
   "source": [
    "from sklearn.linear_model import LogisticRegression\n",
    "logisticRegr2 = LogisticRegression(max_iter=10000, solver='sag', warm_start=True)\n",
    "logisticRegr2.fit(X_train, y_train)\n",
    "logisticRegr2.score(X_test, y_test)\n",
    "print(logisticRegr2.score(X_test, y_test))"
   ]
  },
  {
   "cell_type": "code",
   "execution_count": 53,
   "metadata": {},
   "outputs": [
    {
     "data": {
      "image/png": "[encoded data removed]",
      "text/plain": [
       "<Figure size 640x480 with 2 Axes>"
      ]
     },
     "metadata": {},
     "output_type": "display_data"
    }
   ],
   "source": [
    "import matplotlib.pyplot as plt\n",
    "import numpy\n",
    "from sklearn import metrics\n",
    "predicaoLogistica = logisticRegr2.predict(X_test)\n",
    "\n",
    "confusion_matrix = metrics.confusion_matrix(y_test,predicaoLogistica)\n",
    "cm_display = metrics.ConfusionMatrixDisplay(confusion_matrix = confusion_matrix, display_labels = [False, True])\n",
    "\n",
    "cm_display.plot()\n",
    "plt.show()"
   ]
  },
  {
   "cell_type": "markdown",
   "metadata": {
    "id": "EPySQel4wazP"
   },
   "source": [
    "#Analise com Random Forest"
   ]
  },
  {
   "cell_type": "code",
   "execution_count": 39,
   "metadata": {
    "id": "3ZChb3tP-2O4"
   },
   "outputs": [],
   "source": [
    "maior = -1.0\n",
    "nome = 'nada'"
   ]
  },
  {
   "cell_type": "code",
   "execution_count": 40,
   "metadata": {
    "id": "Euf_yn9LwgXK"
   },
   "outputs": [],
   "source": [
    "df4 = df2.copy()\n",
    "y=df4['2']\n",
    "X=df4.drop('2',axis=1)"
   ]
  },
  {
   "cell_type": "code",
   "execution_count": 41,
   "metadata": {
    "id": "zQsPUILQrNp7"
   },
   "outputs": [],
   "source": [
    "from sklearn.model_selection import train_test_split\n",
    "  \n",
    "X_train, X_test, y_train, y_test = train_test_split(X, y, test_size = 0.2, random_state = 0)"
   ]
  },
  {
   "cell_type": "code",
   "execution_count": 42,
   "metadata": {
    "colab": {
     "base_uri": "https://localhost:8080/"
    },
    "id": "jq_Xkr9ErXZb",
    "outputId": "5fe5d8e5-11a0-4f36-91e9-48fca26d17df"
   },
   "outputs": [
    {
     "data": {
      "text/plain": [
       "2351"
      ]
     },
     "execution_count": 42,
     "metadata": {},
     "output_type": "execute_result"
    }
   ],
   "source": [
    "from sklearn.ensemble import RandomForestClassifier\n",
    "from sklearn.feature_selection import SelectFromModel\n",
    "\n",
    "sel = SelectFromModel(RandomForestClassifier(random_state=0))\n",
    "sel.fit(X_train, y_train)\n",
    "\n",
    "sel.get_support()\n",
    "\n",
    "selected_feat= X_train.columns[(sel.get_support())]\n",
    "len(selected_feat)"
   ]
  },
  {
   "cell_type": "code",
   "execution_count": 43,
   "metadata": {
    "colab": {
     "base_uri": "https://localhost:8080/"
    },
    "id": "tBQUQcysdSxv",
    "outputId": "52d7f267-522b-4466-8d3a-2018a498530d"
   },
   "outputs": [
    {
     "name": "stderr",
     "output_type": "stream",
     "text": [
      "c:\\users\\telma machado\\appdata\\local\\programs\\python\\python37\\lib\\site-packages\\ipykernel_launcher.py:4: PerformanceWarning: DataFrame is highly fragmented.  This is usually the result of calling `frame.insert` many times, which has poor performance.  Consider joining all columns at once using pd.concat(axis=1) instead.  To get a de-fragmented frame, use `newframe = frame.copy()`\n",
      "  after removing the cwd from sys.path.\n"
     ]
    },
    {
     "name": "stdout",
     "output_type": "stream",
     "text": [
      "      4  5  6  7  8  9  10  11  12  14  ...  30821  30830  30859  30876  \\\n",
      "0     0  0  0  0  0  0   0   0   0   0  ...      0      0      0      0   \n",
      "1     1  0  1  0  1  0   1   0   0   0  ...      0      0      0      0   \n",
      "2     0  0  0  0  0  0   0   0   0   0  ...      0      0      0      0   \n",
      "3     0  0  0  0  1  0   0   0   0   0  ...      0      0      0      0   \n",
      "4     1  0  1  0  0  1   1   0   1   0  ...      0      0      0      0   \n",
      "...  .. .. .. .. .. ..  ..  ..  ..  ..  ...    ...    ...    ...    ...   \n",
      "1519  0  0  0  0  1  0   0   0   0   0  ...      0      0      0      0   \n",
      "1520  0  0  1  0  1  0   1   0   0   0  ...      0      0      0      0   \n",
      "1521  0  0  1  0  1  0   1   1   1   0  ...      0      0      0      0   \n",
      "1522  0  0  1  0  0  0   0   0   1   1  ...      0      0      0      0   \n",
      "1523  0  0  1  0  1  0   0   0   0   0  ...      0      0      0      0   \n",
      "\n",
      "      30921  30924  30939  30942  30955  30970  \n",
      "0         0      0      0      0      0      0  \n",
      "1         0      0      0      0      0      0  \n",
      "2         0      0      0      0      0      0  \n",
      "3         0      0      0      0      0      0  \n",
      "4         0      0      0      0      0      0  \n",
      "...     ...    ...    ...    ...    ...    ...  \n",
      "1519      0      0      0      0      0      0  \n",
      "1520      0      0      0      0      0      0  \n",
      "1521      0      0      0      0      0      0  \n",
      "1522      0      0      0      0      0      0  \n",
      "1523      0      0      0      0      0      0  \n",
      "\n",
      "[1524 rows x 2351 columns]\n"
     ]
    }
   ],
   "source": [
    "df5 = pd.DataFrame()\n",
    "\n",
    "for i in range(len(selected_feat)):\n",
    "  df5[selected_feat[i]] = X[selected_feat[i]]\n",
    "print(df5)"
   ]
  },
  {
   "cell_type": "code",
   "execution_count": 45,
   "metadata": {
    "id": "7A0AZR2ngtFZ"
   },
   "outputs": [],
   "source": [
    "from sklearn.model_selection import train_test_split\n",
    "y=df4['2']\n",
    "X=df5\n",
    "X_train, X_test, y_train, y_test = train_test_split(X, y, test_size = 0.2, random_state = 0)"
   ]
  },
  {
   "cell_type": "markdown",
   "metadata": {
    "id": "zr1aS2PcrWoC"
   },
   "source": [
    "##Regressão logistica com Random Forest\n",
    "\n"
   ]
  },
  {
   "cell_type": "code",
   "execution_count": null,
   "metadata": {
    "colab": {
     "base_uri": "https://localhost:8080/"
    },
    "id": "qBckUS3AMati",
    "outputId": "25c4e39c-7a1e-40da-bb06-d5d014e9bceb"
   },
   "outputs": [
    {
     "data": {
      "text/plain": [
       "0.9770491803278688"
      ]
     },
     "execution_count": 51,
     "metadata": {},
     "output_type": "execute_result"
    }
   ],
   "source": [
    "from sklearn.linear_model import LogisticRegression\n",
    "logisticRegr = LogisticRegression()\n",
    "logisticRegr.fit(X_train, y_train)\n",
    "logisticRegr.score(X_test, y_test)"
   ]
  },
  {
   "cell_type": "code",
   "execution_count": null,
   "metadata": {
    "id": "9x4sAiTY7h0K"
   },
   "outputs": [],
   "source": [
    "if(logisticRegr.score(X_test, y_test)==maior):\n",
    "  nome = nome + ' e Regressão Logistica'\n",
    "elif(logisticRegr.score(X_test, y_test)>maior):\n",
    "  maior = logisticRegr.score(X_test, y_test)\n",
    "  nome = 'Regressão Logistica'"
   ]
  },
  {
   "cell_type": "code",
   "execution_count": null,
   "metadata": {
    "colab": {
     "base_uri": "https://localhost:8080/",
     "height": 279
    },
    "id": "yQ9PT7lzMhkE",
    "outputId": "cd78e1bb-88d1-49e9-cae6-8451a258c48d"
   },
   "outputs": [
    {
     "data": {
      "image/png": "[encoded data removed]",
      "text/plain": [
       "<Figure size 432x288 with 2 Axes>"
      ]
     },
     "metadata": {},
     "output_type": "display_data"
    }
   ],
   "source": [
    "import matplotlib.pyplot as plt\n",
    "import numpy\n",
    "from sklearn import metrics\n",
    "predicaoLogistica = logisticRegr.predict(X_test)\n",
    "\n",
    "confusion_matrix = metrics.confusion_matrix(y_test,predicaoLogistica)\n",
    "cm_display = metrics.ConfusionMatrixDisplay(confusion_matrix = confusion_matrix, display_labels = [False, True])\n",
    "\n",
    "cm_display.plot()\n",
    "plt.show()"
   ]
  },
  {
   "cell_type": "markdown",
   "metadata": {
    "id": "E5lUsgcbNpQb"
   },
   "source": [
    "##KNN com Random Forest"
   ]
  },
  {
   "cell_type": "code",
   "execution_count": null,
   "metadata": {
    "colab": {
     "base_uri": "https://localhost:8080/"
    },
    "id": "J7J-Bi_WN1Y8",
    "outputId": "4c691aef-30a6-4721-a4e3-784a1dadab8a"
   },
   "outputs": [
    {
     "data": {
      "text/plain": [
       "0.8622950819672132"
      ]
     },
     "execution_count": 54,
     "metadata": {},
     "output_type": "execute_result"
    }
   ],
   "source": [
    "from sklearn.neighbors import KNeighborsClassifier\n",
    "from math import sqrt\n",
    "knn = KNeighborsClassifier(n_neighbors= int(sqrt(len(selected_feat))))\n",
    "knn.fit(X_train, y_train)\n",
    "knn.score(X_test, y_test)"
   ]
  },
  {
   "cell_type": "code",
   "execution_count": null,
   "metadata": {
    "id": "GBfa7mO87wQv"
   },
   "outputs": [],
   "source": [
    "if(knn.score(X_test, y_test)==maior):\n",
    "  nome = nome + ' e KNN'\n",
    "elif(knn.score(X_test, y_test)>maior):\n",
    "  maior = knn.score(X_test, y_test)\n",
    "  nome = 'KNN'"
   ]
  },
  {
   "cell_type": "code",
   "execution_count": null,
   "metadata": {
    "colab": {
     "base_uri": "https://localhost:8080/",
     "height": 279
    },
    "id": "Hkj48QTTOSBX",
    "outputId": "c35ddbab-d45a-44c0-9c09-137d40419823"
   },
   "outputs": [
    {
     "data": {
      "image/png": "[encoded data removed]",
      "text/plain": [
       "<Figure size 432x288 with 2 Axes>"
      ]
     },
     "metadata": {},
     "output_type": "display_data"
    }
   ],
   "source": [
    "import matplotlib.pyplot as plt\n",
    "import numpy\n",
    "from sklearn import metrics\n",
    "predicaoknn = knn.predict(X_test)\n",
    "\n",
    "confusion_matrix = metrics.confusion_matrix(y_test,predicaoknn)\n",
    "cm_display = metrics.ConfusionMatrixDisplay(confusion_matrix = confusion_matrix, display_labels = [False, True])\n",
    "\n",
    "cm_display.plot()\n",
    "plt.show()"
   ]
  },
  {
   "cell_type": "markdown",
   "metadata": {
    "id": "qhayp1RiOTny"
   },
   "source": [
    "##Gaussian Naive Bayes com Random Forest"
   ]
  },
  {
   "cell_type": "code",
   "execution_count": null,
   "metadata": {
    "colab": {
     "base_uri": "https://localhost:8080/"
    },
    "id": "IvvUkbXEOb2Z",
    "outputId": "46e5a8f6-7ade-48df-868e-ffb9fda03843"
   },
   "outputs": [
    {
     "data": {
      "text/plain": [
       "0.6786885245901639"
      ]
     },
     "execution_count": 57,
     "metadata": {},
     "output_type": "execute_result"
    }
   ],
   "source": [
    "from sklearn.naive_bayes import GaussianNB\n",
    "\n",
    "gnb = GaussianNB()\n",
    "gnb.fit(X_train, y_train)\n",
    "gnb.score(X_test, y_test)"
   ]
  },
  {
   "cell_type": "code",
   "execution_count": null,
   "metadata": {
    "id": "Sh3YAqzj9Ep5"
   },
   "outputs": [],
   "source": [
    "if(gnb.score(X_test, y_test)==maior):\n",
    "  nome = nome + ' e Guassian Naive Bayes'\n",
    "elif(gnb.score(X_test, y_test)>maior):\n",
    "  maior = gnb.score(X_test, y_test)\n",
    "  nome = 'Gaussian Naive Bayes'"
   ]
  },
  {
   "cell_type": "code",
   "execution_count": null,
   "metadata": {
    "colab": {
     "base_uri": "https://localhost:8080/",
     "height": 281
    },
    "id": "SymSznxWOcEH",
    "outputId": "381fa0cc-9d19-44d3-f162-53d8d25cb4cb"
   },
   "outputs": [
    {
     "data": {
      "image/png": "[encoded data removed]",
      "text/plain": [
       "<Figure size 432x288 with 2 Axes>"
      ]
     },
     "metadata": {},
     "output_type": "display_data"
    }
   ],
   "source": [
    "import matplotlib.pyplot as plt\n",
    "import numpy\n",
    "from sklearn import metrics\n",
    "predicaoGNB = gnb.predict(X_test)\n",
    "\n",
    "confusion_matrix = metrics.confusion_matrix(y_test,predicaoGNB)\n",
    "cm_display = metrics.ConfusionMatrixDisplay(confusion_matrix = confusion_matrix, display_labels = [False, True])\n",
    "\n",
    "cm_display.plot()\n",
    "plt.show()"
   ]
  },
  {
   "cell_type": "markdown",
   "metadata": {
    "id": "0Q2HtT4jjRNR"
   },
   "source": [
    "##SVM com Random Forest"
   ]
  },
  {
   "cell_type": "code",
   "execution_count": null,
   "metadata": {
    "colab": {
     "base_uri": "https://localhost:8080/"
    },
    "id": "BcxVpcEuOjdH",
    "outputId": "9ace061a-57e5-47a6-f88c-ef9688e1f10d"
   },
   "outputs": [
    {
     "data": {
      "text/plain": [
       "0.9606557377049181"
      ]
     },
     "execution_count": 60,
     "metadata": {},
     "output_type": "execute_result"
    }
   ],
   "source": [
    "from sklearn import svm\n",
    "\n",
    "clf = svm.SVC()\n",
    "clf.fit(X_train, y_train)\n",
    "clf.score(X_test, y_test)"
   ]
  },
  {
   "cell_type": "code",
   "execution_count": null,
   "metadata": {
    "id": "y6PhL8dh9gUt"
   },
   "outputs": [],
   "source": [
    "if(clf.score(X_test, y_test)==maior):\n",
    "  nome = nome + ' e SVM'\n",
    "elif(clf.score(X_test, y_test)>maior):\n",
    "  maior = clf.score(X_test, y_test)\n",
    "  nome = 'SVM'"
   ]
  },
  {
   "cell_type": "code",
   "execution_count": null,
   "metadata": {
    "colab": {
     "base_uri": "https://localhost:8080/",
     "height": 279
    },
    "id": "kvc0FFE_jdcg",
    "outputId": "c6ee8c72-8566-4092-f305-55382a286672"
   },
   "outputs": [
    {
     "data": {
      "image/png": "[encoded data removed]",
      "text/plain": [
       "<Figure size 432x288 with 2 Axes>"
      ]
     },
     "metadata": {},
     "output_type": "display_data"
    }
   ],
   "source": [
    "import matplotlib.pyplot as plt\n",
    "import numpy\n",
    "from sklearn import metrics\n",
    "predicaoSVM = clf.predict(X_test)\n",
    "\n",
    "confusion_matrix = metrics.confusion_matrix(y_test,predicaoSVM)\n",
    "cm_display = metrics.ConfusionMatrixDisplay(confusion_matrix = confusion_matrix, display_labels = [False, True])\n",
    "\n",
    "cm_display.plot()\n",
    "plt.show()"
   ]
  },
  {
   "cell_type": "markdown",
   "metadata": {
    "id": "Kdxu1QqCjd-v"
   },
   "source": [
    "##SGD com Random Forest"
   ]
  },
  {
   "cell_type": "code",
   "execution_count": 46,
   "metadata": {
    "colab": {
     "base_uri": "https://localhost:8080/"
    },
    "id": "J_8TyKiyjgTv",
    "outputId": "e319cb29-7996-45e4-b0c7-0837034dd5cf"
   },
   "outputs": [
    {
     "data": {
      "text/plain": [
       "0.9868852459016394"
      ]
     },
     "execution_count": 46,
     "metadata": {},
     "output_type": "execute_result"
    }
   ],
   "source": [
    "from sklearn.linear_model import SGDClassifier\n",
    "\n",
    "sgd = SGDClassifier(random_state=0)\n",
    "sgd.fit(X_train,y_train)\n",
    "sgd.score(X_test, y_test)"
   ]
  },
  {
   "cell_type": "code",
   "execution_count": null,
   "metadata": {
    "id": "Sye79S8i9oE6"
   },
   "outputs": [],
   "source": [
    "if(sgd.score(X_test, y_test)==maior):\n",
    "  nome = nome + ' e SGD'\n",
    "elif(sgd.score(X_test, y_test)>maior):\n",
    "  maior = sgd.score(X_test, y_test)\n",
    "  nome = 'SGD'"
   ]
  },
  {
   "cell_type": "code",
   "execution_count": 47,
   "metadata": {
    "colab": {
     "base_uri": "https://localhost:8080/",
     "height": 279
    },
    "id": "A5eXqLavjghk",
    "outputId": "908f952e-fb34-45bf-b0b0-10804da254d8"
   },
   "outputs": [
    {
     "data": {
      "image/png": "[encoded data removed]",
      "text/plain": [
       "<Figure size 640x480 with 2 Axes>"
      ]
     },
     "metadata": {},
     "output_type": "display_data"
    }
   ],
   "source": [
    "import matplotlib.pyplot as plt\n",
    "import numpy\n",
    "from sklearn import metrics\n",
    "predicaoSGD = sgd.predict(X_test)\n",
    "\n",
    "confusion_matrix = metrics.confusion_matrix(y_test,predicaoSGD)\n",
    "cm_display = metrics.ConfusionMatrixDisplay(confusion_matrix = confusion_matrix, display_labels = [False, True])\n",
    "\n",
    "cm_display.plot()\n",
    "plt.show()"
   ]
  },
  {
   "cell_type": "markdown",
   "metadata": {
    "id": "eopP5K5AjlEI"
   },
   "source": [
    "##Redes Neurais com Random Forest"
   ]
  },
  {
   "cell_type": "code",
   "execution_count": null,
   "metadata": {
    "colab": {
     "base_uri": "https://localhost:8080/"
    },
    "id": "awroZhZ4jnwY",
    "outputId": "d89302ca-3646-4e95-9f96-a70d44144076"
   },
   "outputs": [
    {
     "data": {
      "text/plain": [
       "0.9704918032786886"
      ]
     },
     "execution_count": 66,
     "metadata": {},
     "output_type": "execute_result"
    }
   ],
   "source": [
    "from sklearn.neural_network import MLPClassifier\n",
    "\n",
    "RN = MLPClassifier(random_state=1,max_iter=10000)\n",
    "RN.fit(X_train, y_train)\n",
    "RN.score(X_test, y_test)"
   ]
  },
  {
   "cell_type": "code",
   "execution_count": null,
   "metadata": {
    "id": "FkFR3X-Y9uG2"
   },
   "outputs": [],
   "source": [
    "if(RN.score(X_test, y_test)==maior):\n",
    "  nome = nome + ' e Redes Neurais'\n",
    "elif(RN.score(X_test, y_test)>maior):\n",
    "  maior = RN.score(X_test, y_test)\n",
    "  nome = 'Redes Neurais'"
   ]
  },
  {
   "cell_type": "code",
   "execution_count": null,
   "metadata": {
    "colab": {
     "base_uri": "https://localhost:8080/",
     "height": 279
    },
    "id": "j79ySNK6jnW-",
    "outputId": "0962e82f-aed5-4903-dce4-8577d735f188"
   },
   "outputs": [
    {
     "data": {
      "image/png": "[encoded data removed]",
      "text/plain": [
       "<Figure size 432x288 with 2 Axes>"
      ]
     },
     "metadata": {},
     "output_type": "display_data"
    }
   ],
   "source": [
    "import matplotlib.pyplot as plt\n",
    "import numpy\n",
    "from sklearn import metrics\n",
    "predicaoRN = RN.predict(X_test)\n",
    "\n",
    "confusion_matrix = metrics.confusion_matrix(y_test,predicaoRN)\n",
    "cm_display = metrics.ConfusionMatrixDisplay(confusion_matrix = confusion_matrix, display_labels = [False, True])\n",
    "\n",
    "cm_display.plot()\n",
    "plt.show()"
   ]
  },
  {
   "cell_type": "code",
   "execution_count": null,
   "metadata": {
    "colab": {
     "base_uri": "https://localhost:8080/"
    },
    "id": "L4fNCor6NkuX",
    "outputId": "866d6641-fe47-495f-b70c-7622b0714ac7"
   },
   "outputs": [
    {
     "name": "stdout",
     "output_type": "stream",
     "text": [
      "0.9868852459016394\n",
      "SGD\n"
     ]
    }
   ],
   "source": [
    "print(maior)\n",
    "print(nome)"
   ]
  },
  {
   "cell_type": "markdown",
   "metadata": {
    "id": "3jUlYwnbVg78"
   },
   "source": [
    "##SDG Grid"
   ]
  },
  {
   "cell_type": "code",
   "execution_count": 48,
   "metadata": {},
   "outputs": [],
   "source": [
    "valores_grid = {'loss':('hinge', 'log_loss', 'log', 'modified_huber', 'squared_hinge', 'perceptron', 'squared_error', 'huber', 'epsilon_insensitive', 'squared_epsilon_insensitive'),'penalty':('l2', 'l1', 'elasticnet', None),'random_state':np.array(list(range(0,21)))}\n",
    "seed = 7"
   ]
  },
  {
   "cell_type": "code",
   "execution_count": 49,
   "metadata": {},
   "outputs": [],
   "source": [
    "modelo = SGDClassifier()"
   ]
  },
  {
   "cell_type": "code",
   "execution_count": 50,
   "metadata": {},
   "outputs": [
    {
     "name": "stderr",
     "output_type": "stream",
     "text": [
      "c:\\users\\telma machado\\appdata\\local\\programs\\python\\python37\\lib\\site-packages\\sklearn\\model_selection\\_validation.py:372: FitFailedWarning: \n",
      "420 fits failed out of a total of 4200.\n",
      "The score on these train-test partitions for these parameters will be set to nan.\n",
      "If these failures are not expected, you can try to debug them by setting error_score='raise'.\n",
      "\n",
      "Below are more details about the failures:\n",
      "--------------------------------------------------------------------------------\n",
      "420 fits failed with the following error:\n",
      "Traceback (most recent call last):\n",
      "  File \"c:\\users\\telma machado\\appdata\\local\\programs\\python\\python37\\lib\\site-packages\\sklearn\\model_selection\\_validation.py\", line 680, in _fit_and_score\n",
      "    estimator.fit(X_train, y_train, **fit_params)\n",
      "  File \"c:\\users\\telma machado\\appdata\\local\\programs\\python\\python37\\lib\\site-packages\\sklearn\\linear_model\\_stochastic_gradient.py\", line 892, in fit\n",
      "    sample_weight=sample_weight,\n",
      "  File \"c:\\users\\telma machado\\appdata\\local\\programs\\python\\python37\\lib\\site-packages\\sklearn\\linear_model\\_stochastic_gradient.py\", line 649, in _fit\n",
      "    self._validate_params()\n",
      "  File \"c:\\users\\telma machado\\appdata\\local\\programs\\python\\python37\\lib\\site-packages\\sklearn\\linear_model\\_stochastic_gradient.py\", line 162, in _validate_params\n",
      "    raise ValueError(\"The loss %s is not supported. \" % self.loss)\n",
      "ValueError: The loss log_loss is not supported. \n",
      "\n",
      "  warnings.warn(some_fits_failed_message, FitFailedWarning)\n",
      "c:\\users\\telma machado\\appdata\\local\\programs\\python\\python37\\lib\\site-packages\\sklearn\\model_selection\\_search.py:972: UserWarning: One or more of the test scores are non-finite: [0.97899914 0.97178602 0.97769198 0.96586928 0.96784728 0.97703408\n",
      " 0.97768982 0.97178818 0.97243745 0.97046808 0.96718939 0.97112813\n",
      " 0.97769198 0.97769198 0.97309534 0.96915876 0.9678516  0.97309534\n",
      " 0.9730975  0.97441113 0.97506255 0.97441113 0.97375539 0.97440466\n",
      " 0.97113244 0.96653365 0.97177955 0.97310181 0.97112597 0.97440897\n",
      " 0.97507118 0.97440897 0.97178818 0.97177955 0.97506687 0.97506255\n",
      " 0.97572692 0.97441113 0.96784944 0.97113028 0.97374892 0.97112381\n",
      " 0.97374461 0.97177739 0.97113028 0.97506471 0.9711346  0.97047455\n",
      " 0.97178387 0.97243745 0.97375539 0.97375539 0.97900345 0.97440682\n",
      " 0.97243745 0.97506471 0.97112166 0.97637834 0.97310181 0.9730975\n",
      " 0.97375324 0.97310397 0.97178387 0.97572476 0.97244392 0.97178602\n",
      " 0.97244607 0.9698145  0.97112597 0.97178602 0.97309534 0.97178387\n",
      " 0.97112597 0.97637834 0.97375755 0.96981234 0.97375539 0.9724396\n",
      " 0.97572261 0.9671937  0.96719802 0.97244392 0.97046592 0.97112813\n",
      "        nan        nan        nan        nan        nan        nan\n",
      "        nan        nan        nan        nan        nan        nan\n",
      "        nan        nan        nan        nan        nan        nan\n",
      "        nan        nan        nan        nan        nan        nan\n",
      "        nan        nan        nan        nan        nan        nan\n",
      "        nan        nan        nan        nan        nan        nan\n",
      "        nan        nan        nan        nan        nan        nan\n",
      "        nan        nan        nan        nan        nan        nan\n",
      "        nan        nan        nan        nan        nan        nan\n",
      "        nan        nan        nan        nan        nan        nan\n",
      "        nan        nan        nan        nan        nan        nan\n",
      "        nan        nan        nan        nan        nan        nan\n",
      "        nan        nan        nan        nan        nan        nan\n",
      "        nan        nan        nan        nan        nan        nan\n",
      " 0.97441329 0.9724396  0.9724396  0.97769198 0.97178818 0.97178818\n",
      " 0.97637619 0.97178818 0.97178818 0.9724396  0.97703192 0.97506687\n",
      " 0.97703624 0.97637619 0.97703624 0.97440466 0.97047455 0.96322045\n",
      " 0.97113028 0.97178818 0.9724396  0.97506687 0.97047239 0.97047023\n",
      " 0.96982097 0.97113244 0.97441113 0.97440897 0.96718939 0.97244176\n",
      " 0.96850302 0.97178171 0.97113028 0.97243745 0.97637403 0.97178818\n",
      " 0.97375324 0.9698145  0.96850518 0.97244392 0.97309534 0.97309318\n",
      " 0.97637834 0.97506687 0.97900345 0.97441329 0.97047455 0.97309965\n",
      " 0.97571829 0.97177955 0.97506903 0.97178171 0.97309318 0.97310181\n",
      " 0.97506687 0.97769198 0.97769198 0.97440682 0.97178818 0.97375755\n",
      " 0.97113028 0.97112813 0.97440466 0.97506687 0.97112813 0.97375755\n",
      " 0.97244176 0.96784944 0.9730975  0.97047455 0.9698145  0.97375324\n",
      " 0.97047023 0.97703192 0.9730975  0.97112813 0.97440897 0.97113028\n",
      " 0.97113028 0.96653796 0.97113676 0.97244607 0.97112597 0.96849655\n",
      " 0.97506255 0.97047455 0.97571613 0.9711195  0.96848361 0.97375539\n",
      " 0.97047455 0.97375539 0.97506255 0.97309965 0.97441113 0.97375755\n",
      " 0.97441113 0.97572261 0.97505824 0.96850733 0.97637187 0.97047023\n",
      " 0.97375108 0.97506687 0.97375324 0.97572261 0.97047455 0.96849871\n",
      " 0.97309965 0.97244392 0.9750604  0.97309318 0.97046808 0.96981234\n",
      " 0.96916523 0.97112813 0.97506687 0.97243745 0.97244392 0.97244176\n",
      " 0.97113244 0.97244607 0.97375971 0.97375324 0.9678516  0.97703624\n",
      " 0.97506471 0.97637834 0.97703192 0.97506471 0.96916091 0.97441113\n",
      " 0.97572045 0.96915444 0.97440682 0.97375755 0.97441113 0.97113676\n",
      " 0.97243745 0.97637834 0.97703408 0.96981234 0.97768766 0.97506471\n",
      " 0.97506471 0.97243529 0.96653796 0.97178171 0.97178818 0.97178387\n",
      " 0.97178818 0.96916954 0.97309318 0.9704767  0.96981234 0.97178387\n",
      " 0.97178387 0.9730975  0.97375108 0.96916091 0.97440682 0.97375755\n",
      " 0.97572692 0.9724396  0.97112813 0.97441329 0.97244607 0.9730975\n",
      " 0.97113244 0.97310181 0.97440897 0.97178171 0.97112166 0.97046808\n",
      " 0.97703408 0.96785375 0.97440682 0.97637619 0.96981881 0.97309534\n",
      " 0.97177955 0.97506471 0.97768982 0.96323123 0.96916954 0.97113676\n",
      " 0.97113028 0.96719802 0.97506687 0.97506255 0.97178818 0.96981665\n",
      " 0.97178602 0.97178818 0.97309534 0.96784297 0.97441329 0.97375324\n",
      " 0.97309318 0.98031708 0.97440897 0.97375755 0.97243313 0.97178387\n",
      " 0.97375755 0.96915876 0.9724396  0.97310181 0.96916091 0.97178387\n",
      " 0.97178818 0.97112381 0.97703624 0.97046808 0.97178602 0.97375755\n",
      " 0.97375539 0.96654228 0.97178602 0.97309534 0.97374892 0.96784297\n",
      " 0.97112166 0.97506687 0.96784297 0.97965487 0.97178818 0.97637834\n",
      " 0.97309318 0.97112813 0.97244607 0.97440682 0.97309534 0.96981665\n",
      " 0.96981665 0.9704767  0.97506687 0.96849871 0.97572692 0.9730975\n",
      " 0.9724396  0.97900561 0.97440897 0.97703624 0.97440897 0.97244176\n",
      " 0.97441544 0.97244607 0.97047239 0.97113244 0.96916523 0.97309534\n",
      " 0.97375324 0.97375324 0.97440897 0.97376186 0.97309965 0.97177955\n",
      " 0.97309103 0.97506687 0.97047886 0.97309965 0.9750604  0.97309965\n",
      " 0.97572045 0.97309965 0.9711346  0.96191976 0.9711346  0.96389344\n",
      " 0.97375971 0.97374892 0.97441544 0.97244392 0.97047023 0.97703624\n",
      " 0.97375324 0.97178387 0.97112597 0.97506903 0.96850518 0.97244176\n",
      " 0.97244176 0.97309965 0.9763805  0.97309103 0.97375755 0.97571829\n",
      " 0.9770384  0.97113244 0.96981665 0.97572261 0.97375108 0.97112813\n",
      " 0.97375539 0.9724396  0.97506471 0.97375324 0.97113028 0.97507334\n",
      " 0.97572476 0.97374676 0.96915876 0.97637403 0.97637619 0.97769413\n",
      " 0.97112597 0.97507118 0.97243745 0.97834771 0.97112597 0.97506471\n",
      " 0.9724396  0.97047455 0.97112381 0.97441329 0.96981665 0.9724396\n",
      " 0.97047455 0.96588007 0.97244176 0.97506471 0.97178387 0.97440682\n",
      " 0.9671937  0.97375324 0.97375539 0.96850086 0.97178818 0.97506471\n",
      " 0.97309318 0.97572908 0.97310181 0.97375108 0.96849871 0.97112597\n",
      " 0.43830673 0.45546808 0.46259491 0.51305436 0.53094478 0.43502157\n",
      " 0.59450388 0.51509707 0.47183779 0.56234038 0.54537101 0.46194133\n",
      " 0.50718723 0.53286238 0.49809103 0.5196333  0.46712683 0.53404012\n",
      " 0.44113891 0.54636756 0.56235116 0.48825928 0.43182053 0.52550906\n",
      " 0.42979724 0.5033585  0.5124849  0.50714193 0.55971743 0.48164582\n",
      " 0.46786454 0.52371657 0.53741588 0.50733607 0.43829379 0.4966264\n",
      " 0.57737274 0.49152718 0.55708801 0.52097714 0.51437877 0.46987489\n",
      " 0.55980155 0.52038179 0.49877049 0.50984469 0.51183779 0.53336281\n",
      " 0.57486842 0.42850733 0.57021786 0.35636972 0.50716135 0.47707506\n",
      " 0.57943054 0.52023943 0.49008628 0.62333909 0.52242666 0.53607636\n",
      " 0.51846419 0.48878128 0.62003667 0.55706644 0.38647972 0.49539258\n",
      " 0.52235764 0.4607528  0.52288395 0.41533865 0.47830026 0.53554573\n",
      " 0.45009922 0.50910483 0.45743097 0.57946074 0.5636799  0.50781493\n",
      " 0.48154875 0.46988999 0.59317084 0.54134599 0.45996333 0.49405522\n",
      " 0.85366911 0.91078085 0.93307377 0.90419543 0.90223037 0.87143227\n",
      " 0.90485332 0.8969629  0.89959016 0.87336066 0.89896678 0.91665444\n",
      " 0.858956   0.8910742  0.92977783 0.82084987 0.86208801 0.91012295\n",
      " 0.83797455 0.88520492 0.88651639 0.9415962  0.92061044 0.92652718\n",
      " 0.93568809 0.94093615 0.89898835 0.89368205 0.87451467 0.93567947\n",
      " 0.91930759 0.83012942 0.84055436 0.89175151 0.93373167 0.8825604\n",
      " 0.88323339 0.91077222 0.90030198 0.93438525 0.87911993 0.83208585\n",
      " 0.8798145  0.90947153 0.88782787 0.94488783 0.91339733 0.88454918\n",
      " 0.88846204 0.93040552 0.90352028 0.92979508 0.92652286 0.90616048\n",
      " 0.9041566  0.90094478 0.93177739 0.9232528  0.91340595 0.93045513\n",
      " 0.82154443 0.92257981 0.92260138 0.86419111 0.85633952 0.86090164\n",
      " 0.87663934 0.87860871 0.84515315 0.87926877 0.896305   0.88844909\n",
      " 0.90615617 0.90025237 0.92123814 0.86941329 0.86086713 0.88122951\n",
      " 0.87467645 0.85236626 0.85620794 0.79858067 0.83530198 0.90154659\n",
      " 0.67181191 0.79853538 0.64425151 0.67650129 0.73688956 0.73165013\n",
      " 0.73551122 0.62738999 0.65166739 0.77038611 0.78931838 0.61359146\n",
      " 0.73883305 0.70805867 0.62593615 0.64829594 0.56951898 0.59645168\n",
      " 0.71785375 0.61761217 0.66998921 0.8004767  0.70008197 0.64840164\n",
      " 0.70215919 0.76511217 0.71776747 0.72506471 0.59910267 0.72243097\n",
      " 0.72622735 0.74606126 0.52484038 0.71001941 0.7172843  0.71989646\n",
      " 0.67526747 0.66144737 0.72372088 0.70212036 0.71977135 0.62150561\n",
      " 0.62255824 0.61810397 0.62915876 0.66015746 0.67653149 0.70542278\n",
      " 0.61091027 0.67519845 0.6061799  0.69757118 0.56308456 0.69358283\n",
      " 0.62670621 0.60627696 0.66530414 0.69680328 0.6404767  0.67002588\n",
      " 0.62066868 0.76643658 0.6685893  0.54584771 0.56030414 0.64172131\n",
      " 0.68048102 0.55389129 0.64705565 0.62997412 0.56364754 0.72444564\n",
      " 0.67849655 0.6278667  0.5964107  0.69753236 0.51765531 0.70080242\n",
      " 0.58072692 0.68241156 0.56240078 0.64635677 0.6764711  0.64627049\n",
      " 0.43961173 0.524217   0.55968939 0.46908326 0.48502373 0.50252373\n",
      " 0.58648619 0.49011217 0.40546376 0.5038503  0.44891717 0.54011001\n",
      " 0.53149482 0.3680522  0.41667386 0.42330242 0.51980371 0.40100302\n",
      " 0.44763589 0.45276531 0.46187877 0.48037101 0.44352675 0.43504314\n",
      " 0.51513589 0.52221959 0.48160915 0.50057377 0.49938093 0.51712036\n",
      " 0.45860871 0.43966997 0.4638352  0.62011001 0.51449957 0.46070966\n",
      " 0.41268335 0.47238352 0.49600949 0.48483175 0.54387619 0.52239646\n",
      " 0.42270923 0.44224547 0.46910267 0.64238999 0.50990725 0.53351165\n",
      " 0.53680544 0.40155306 0.4599396  0.60621657 0.61355047 0.51582614\n",
      " 0.54070319 0.51246549 0.5518723  0.55446937 0.45009275 0.50254745\n",
      " 0.52748706 0.42053494 0.41538827 0.50328947 0.4763503  0.45929681\n",
      " 0.47959879 0.43701898 0.41926877 0.49418033 0.52225194 0.47045082\n",
      " 0.51636972 0.45867558 0.58071398 0.48162209 0.57805004 0.5341113\n",
      " 0.45809965 0.54325496 0.46910915 0.54064927 0.47505393 0.60831536]\n",
      "  category=UserWarning,\n"
     ]
    },
    {
     "name": "stdout",
     "output_type": "stream",
     "text": [
      "Melhores Parâmetros do Modelo:\n",
      " SGDClassifier(loss='squared_hinge', penalty='l1', random_state=10)\n"
     ]
    }
   ],
   "source": [
    "grid = GridSearchCV(estimator = modelo, param_grid = valores_grid)\n",
    "grid.fit(X, y)\n",
    "print(\"Melhores Parâmetros do Modelo:\\n\", grid.best_estimator_)"
   ]
  },
  {
   "cell_type": "code",
   "execution_count": 53,
   "metadata": {},
   "outputs": [
    {
     "data": {
      "text/plain": [
       "0.9868852459016394"
      ]
     },
     "execution_count": 53,
     "metadata": {},
     "output_type": "execute_result"
    }
   ],
   "source": [
    "from sklearn.linear_model import SGDClassifier\n",
    "\n",
    "sgd2 = SGDClassifier(loss='squared_hinge', penalty='l1', random_state=10)\n",
    "sgd2.fit(X_train,y_train)\n",
    "sgd2.score(X_test, y_test)"
   ]
  },
  {
   "cell_type": "code",
   "execution_count": 54,
   "metadata": {},
   "outputs": [
    {
     "data": {
      "image/png": "[encoded data removed]",
      "text/plain": [
       "<Figure size 640x480 with 2 Axes>"
      ]
     },
     "metadata": {},
     "output_type": "display_data"
    }
   ],
   "source": [
    "import matplotlib.pyplot as plt\n",
    "import numpy\n",
    "from sklearn import metrics\n",
    "predicaoSGD = sgd2.predict(X_test)\n",
    "\n",
    "confusion_matrix = metrics.confusion_matrix(y_test,predicaoSGD)\n",
    "cm_display = metrics.ConfusionMatrixDisplay(confusion_matrix = confusion_matrix, display_labels = [False, True])\n",
    "\n",
    "cm_display.plot()\n",
    "plt.show()"
   ]
  },
  {
   "cell_type": "markdown",
   "metadata": {
    "id": "Q-qbfseOlh5B"
   },
   "source": []
  }
 ],
 "metadata": {
  "colab": {
   "provenance": []
  },
  "kernelspec": {
   "display_name": "Python 3 (ipykernel)",
   "language": "python",
   "name": "python3"
  },
  "language_info": {
   "codemirror_mode": {
    "name": "ipython",
    "version": 3
   },
   "file_extension": ".py",
   "mimetype": "text/x-python",
   "name": "python",
   "nbconvert_exporter": "python",
   "pygments_lexer": "ipython3",
   "version": "3.7.2"
  }
 },
 "nbformat": 4,
 "nbformat_minor": 1
}
